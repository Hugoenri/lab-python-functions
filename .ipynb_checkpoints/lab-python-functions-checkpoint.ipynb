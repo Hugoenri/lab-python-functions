{
 "cells": [
  {
   "cell_type": "markdown",
   "id": "25d7736c-ba17-4aff-b6bb-66eba20fbf4e",
   "metadata": {},
   "source": [
    "# Lab | Functions"
   ]
  },
  {
   "cell_type": "markdown",
   "id": "0c581062-8967-4d93-b06e-62833222f930",
   "metadata": {
    "tags": []
   },
   "source": [
    "## Exercise: Managing Customer Orders with Functions\n",
    "\n",
    "In the previous exercise, you improved the code for managing customer orders by using loops and flow control. Now, let's take it a step further and refactor the code by introducing functions.\n",
    "\n",
    "Follow the steps below to complete the exercise:\n",
    "\n",
    "1. Define a function named `initialize_inventory` that takes `products` as a parameter. Inside the function, implement the code for initializing the inventory dictionary using a loop and user input.\n",
    "\n",
    "2. Define a function named `get_customer_orders` that takes no parameters. Inside the function, implement the code for prompting the user to enter the product names using a loop. The function should return the `customer_orders` set.\n",
    "\n",
    "3. Define a function named `update_inventory` that takes `customer_orders` and `inventory` as parameters. Inside the function, implement the code for updating the inventory dictionary based on the customer orders.\n",
    "\n",
    "4. Define a function named `calculate_order_statistics` that takes `customer_orders` and `products` as parameters. Inside the function, implement the code for calculating the order statistics (total products ordered, and percentage of unique products ordered). The function should return these values.\n",
    "\n",
    "5. Define a function named `print_order_statistics` that takes `order_statistics` as a parameter. Inside the function, implement the code for printing the order statistics.\n",
    "\n",
    "6. Define a function named `print_updated_inventory` that takes `inventory` as a parameter. Inside the function, implement the code for printing the updated inventory.\n",
    "\n",
    "7. Call the functions in the appropriate sequence to execute the program and manage customer orders.\n",
    "\n",
    "Hints for functions:\n",
    "\n",
    "- Consider the input parameters required for each function and their return values.\n",
    "- Utilize function parameters and return values to transfer data between functions.\n",
    "- Test your functions individually to ensure they work correctly.\n",
    "\n",
    "\n"
   ]
  },
  {
   "cell_type": "code",
   "execution_count": 47,
   "id": "b368f415-8dbd-4404-96be-cc226effea95",
   "metadata": {},
   "outputs": [],
   "source": [
    "def initialize_inventory(products):\n",
    "  inventory = {}\n",
    "  for product in products:\n",
    "      quantity = int(input(f'Please, enter the quantity of {product} available in the inventory: '))\n",
    "      inventory[product] = quantity"
   ]
  },
  {
   "cell_type": "code",
   "execution_count": 49,
   "id": "cb7670fd-77bb-4c1c-8633-e6bcfbc80317",
   "metadata": {},
   "outputs": [],
   "source": [
    "def get_customer_orders():\n",
    "    customer_orders = set()\n",
    "    do_option = True\n",
    "    while do_option:\n",
    "        order = input('Enter the name of the product you want to order: ')\n",
    "        if order in products:\n",
    "            customer_orders.add(order)\n",
    "        else:\n",
    "            print('Invalid product, please choose one from the list.')\n",
    "        do_option = input('Do you want to add another product? (yes/no): ') == 'yes'"
   ]
  },
  {
   "cell_type": "code",
   "execution_count": 52,
   "id": "ea6880a1-b157-473f-a9ea-0681464d4d28",
   "metadata": {},
   "outputs": [],
   "source": [
    "def update_inventory(customer_orders, inventory):\n",
    "   for product in customer_orders:\n",
    "    if product in inventory and inventory[costumer_orders] > 0:\n",
    "         inventory[product] -= 1\n",
    "    else:\n",
    "        print(f\"No hay suficiente inventario para el producto: {product}\")"
   ]
  },
  {
   "cell_type": "code",
   "execution_count": 30,
   "id": "54f965dc-028c-4813-ae31-f174e7e6e6f9",
   "metadata": {},
   "outputs": [],
   "source": [
    "def calculate_order_statistics():\n",
    "    total_products_ordered=len(customer_orders)\n",
    "    percentage_of_products_ordered= (total_products_ordered / len(products))*100\n",
    "    order_status=(total_products_ordered,percentage_of_products_ordered)\n",
    "    return total_products_ordered, percentage_of_products_ordered\n"
   ]
  },
  {
   "cell_type": "code",
   "execution_count": 38,
   "id": "3492e747-0d83-46a3-a13b-0e90be8f6798",
   "metadata": {},
   "outputs": [],
   "source": [
    "def print_order_statistics(order_statistics):\n",
    "    print(\"Order Statistics:\")\n",
    "    print(f\"Total Products Ordered: {order_statistics[0]}\")\n",
    "    print(f\"Percentage of Products Ordered: {order_statistics[1]}\")\n",
    "\n"
   ]
  },
  {
   "cell_type": "code",
   "execution_count": 40,
   "id": "97d33a19-8355-4657-bd23-ce2a2b779fe2",
   "metadata": {},
   "outputs": [],
   "source": [
    "def print_updated_inventory(inventory):\n",
    "    for product, quantity in inventory.items():\n",
    "        print(f\"{product}: {quantity}\")\n"
   ]
  },
  {
   "cell_type": "code",
   "execution_count": null,
   "id": "cf1b5309-2a7d-4b16-bde4-d515fae1696a",
   "metadata": {},
   "outputs": [],
   "source": [
    "    products = [\"t-shirt\", \"mug\", \"hat\", \"book\", \"keychain\"]\n",
    "    inventory = initialize_inventory(products)\n",
    "    customer_orders = get_customer_orders()\n",
    "    update_inventory(customer_orders, inventory)\n",
    "    statistics = calculate_order_statistics(customer_orders)\n",
    "    print_order_statistics(statistics)\n",
    "    print_updated_inventory(inventory)\n"
   ]
  },
  {
   "cell_type": "code",
   "execution_count": null,
   "id": "a0ff0758-be4a-4452-902b-e5246269e441",
   "metadata": {},
   "outputs": [],
   "source": []
  }
 ],
 "metadata": {
  "kernelspec": {
   "display_name": "Python 3 (ipykernel)",
   "language": "python",
   "name": "python3"
  },
  "language_info": {
   "codemirror_mode": {
    "name": "ipython",
    "version": 3
   },
   "file_extension": ".py",
   "mimetype": "text/x-python",
   "name": "python",
   "nbconvert_exporter": "python",
   "pygments_lexer": "ipython3",
   "version": "3.12.4"
  }
 },
 "nbformat": 4,
 "nbformat_minor": 5
}
